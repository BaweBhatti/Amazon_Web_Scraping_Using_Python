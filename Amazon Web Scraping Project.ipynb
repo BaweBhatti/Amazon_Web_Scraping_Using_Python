{
 "cells": [
  {
   "cell_type": "code",
   "execution_count": 1,
   "id": "ef86cf4a-ddaf-43a9-b553-c6624663b830",
   "metadata": {},
   "outputs": [],
   "source": [
    "#import libraries\n",
    "from bs4 import BeautifulSoup\n",
    "import requests\n",
    "import pandas as pd\n",
    "import numpy as np"
   ]
  },
  {
   "cell_type": "code",
   "execution_count": 8,
   "id": "8d7f2060-c4cd-4723-9e86-9a10e8d72a83",
   "metadata": {},
   "outputs": [],
   "source": [
    "# Function to extract Product Title\n",
    "def get_title(soup):\n",
    "\n",
    "    try:\n",
    "        # Outer Tag Object\n",
    "        title = soup.find(\"span\", attrs={\"id\":'productTitle'})\n",
    "        \n",
    "        # Inner NavigableString Object\n",
    "        title_value = title.text\n",
    "\n",
    "        # Title as a string value\n",
    "        title_string = title_value.strip()\n",
    "\n",
    "    except AttributeError:\n",
    "        title_string = \"\"\n",
    "\n",
    "    return title_string\n",
    "\n",
    "# Function to extract Product Price\n",
    "def get_price(soup):\n",
    "\n",
    "    try:\n",
    "        price = soup.find(\"span\", attrs={'class':'a-price aok-align-center'}).string.strip()\n",
    "\n",
    "    except AttributeError:\n",
    "            price = \"\"\n",
    "\n",
    "    return price\n",
    "\n",
    "# Function to extract Product Rating\n",
    "def get_rating(soup):\n",
    "\n",
    "    try:\n",
    "        rating = soup.find(\"i\", attrs={'class':'a-icon a-icon-star a-star-4-5 cm-cr-review-stars-spacing-big'}).string.strip()\n",
    "    \n",
    "    except AttributeError:\n",
    "        try:\n",
    "            rating = soup.find(\"span\", attrs={'class':'a-icon-alt'}).string.strip()\n",
    "        except:\n",
    "            rating = \"\"\t\n",
    "\n",
    "    return rating\n",
    "\n",
    "# Function to extract Number of User Reviews\n",
    "def get_review_count(soup):\n",
    "    try:\n",
    "        review_count = soup.find(\"span\", attrs={'id':'acrCustomerReviewText'}).string.strip()\n",
    "\n",
    "    except AttributeError:\n",
    "        review_count = \"\"\t\n",
    "\n",
    "    return review_count\n"
   ]
  },
  {
   "cell_type": "code",
   "execution_count": 3,
   "id": "9dfdc46d-3d15-4b05-ad15-7311104406ca",
   "metadata": {},
   "outputs": [],
   "source": [
    "# added user agent \n",
    "HEADERS = ({\"User-Agent\": \"Mozilla/5.0 (Windows NT 10.0; Win64; x64) AppleWebKit/537.36 (KHTML, like Gecko) Chrome/124.0.0.0 Safari/537.36\", 'Accept-Language': 'en-US, en;q=0.5'})\n",
    "\n",
    "# The webpage URL\n",
    "URL='https://www.amazon.ca/Amazon-Essentials-Regular-Fit-Long-Sleeve-Mini-Gingham/dp/B06XW9QH4B/ref=sr_1_1_ffob_sspa?crid=3HHVEZYJZ72LJ&dib=eyJ2IjoiMSJ9.efbm2bk6bX6pQFeJbNtuq5SNR_8YQbcIAe2LQSKqaoSqdcWgjaFsoRv4rk4IleTvnz6_PcltU3vwE1zz0ZCeKWkokkM7FxQbLoljKGGga1H_YQhTA3YVIIwi_CN38-C3rJqlXjyqEcCrqG_rS4hgUN0DSKSCGI_y-4eMEqHk64Mduq9qhwfdUjB3JQFkTNmkXRUp2yT1zT5wMN51FhI4kdOGP0OhYmsdxOk0AD2msmcsuVXEoyzhj6caP6hZTKzDQTFboACzC4ONs5xJR05WD0KOUh47iN57972GyjTSnZk.QqxFhlxSq2yzQDoP16v71L___-Q5V6muW8napofNl40&dib_tag=se&keywords=shirt&qid=1713897973&sprefix=shirt%2Caps%2C202&sr=8-1-spons&sp_csd=d2lkZ2V0TmFtZT1zcF9hdGY&psc=1'\n",
    "\n",
    "# HTTP Request\n",
    "webpage = requests.get(URL, headers=HEADERS)\n",
    "\n",
    "# Soup Object containing all data\n",
    "soup = BeautifulSoup(webpage.content, \"html.parser\")"
   ]
  },
  {
   "cell_type": "code",
   "execution_count": 4,
   "id": "9dc7c1b5-73a8-48cf-81b4-366411ad94da",
   "metadata": {},
   "outputs": [],
   "source": [
    " # Fetch links as List of Tag Objects\n",
    "links = soup.find_all(\"a\", attrs={'class':'a-link-normal s-underline-text s-underline-link-text s-link-style a-text-normal'})\n",
    "\n",
    "# Store the links\n",
    "links_list = []\n",
    "\n",
    "# Loop for extracting links from Tag Objects\n",
    "for link in links:\n",
    "    links_list.append(link.get('href'))\n",
    "\n",
    "d = {\"title\":[], \"price\":[], \"rating\":[], \"reviews\":[]}"
   ]
  },
  {
   "cell_type": "code",
   "execution_count": 5,
   "id": "813f1ec5-b6b0-4cc4-b19b-91dacf9266b7",
   "metadata": {},
   "outputs": [],
   "source": [
    " # Function calls to display all necessary product information\n",
    "d['title'].append(get_title(soup))\n",
    "d['price'].append(get_price(soup))\n",
    "d['rating'].append(get_rating(soup))\n",
    "d['reviews'].append(get_review_count(soup))"
   ]
  },
  {
   "cell_type": "code",
   "execution_count": null,
   "id": "96bf3124-ec4f-4d87-a6bc-2eff81b09105",
   "metadata": {},
   "outputs": [],
   "source": [
    "amazon_df = pd.DataFrame.from_dict(d)\n",
    "amazon_df['title'].replace('', np.nan, inplace=True)\n",
    "amazon_df = amazon_df.dropna(subset=['title'])\n",
    "amazon_df.to_csv(\"amazon_data.csv\", header=True, index=False)"
   ]
  },
  {
   "cell_type": "code",
   "execution_count": 7,
   "id": "4c84b24f-f161-4a7a-8f8f-bd93f0040feb",
   "metadata": {},
   "outputs": [
    {
     "data": {
      "text/html": [
       "<div>\n",
       "<style scoped>\n",
       "    .dataframe tbody tr th:only-of-type {\n",
       "        vertical-align: middle;\n",
       "    }\n",
       "\n",
       "    .dataframe tbody tr th {\n",
       "        vertical-align: top;\n",
       "    }\n",
       "\n",
       "    .dataframe thead th {\n",
       "        text-align: right;\n",
       "    }\n",
       "</style>\n",
       "<table border=\"1\" class=\"dataframe\">\n",
       "  <thead>\n",
       "    <tr style=\"text-align: right;\">\n",
       "      <th></th>\n",
       "      <th>title</th>\n",
       "      <th>price</th>\n",
       "      <th>rating</th>\n",
       "      <th>reviews</th>\n",
       "    </tr>\n",
       "  </thead>\n",
       "  <tbody>\n",
       "    <tr>\n",
       "      <th>0</th>\n",
       "      <td>Amazon Essentials Men's Regular-Fit Long-Sleev...</td>\n",
       "      <td></td>\n",
       "      <td>4.3 out of 5 stars</td>\n",
       "      <td>150 ratings</td>\n",
       "    </tr>\n",
       "  </tbody>\n",
       "</table>\n",
       "</div>"
      ],
      "text/plain": [
       "                                               title price  \\\n",
       "0  Amazon Essentials Men's Regular-Fit Long-Sleev...         \n",
       "\n",
       "               rating      reviews  \n",
       "0  4.3 out of 5 stars  150 ratings  "
      ]
     },
     "execution_count": 7,
     "metadata": {},
     "output_type": "execute_result"
    }
   ],
   "source": [
    "amazon_df"
   ]
  },
  {
   "cell_type": "code",
   "execution_count": null,
   "id": "1859a434-7a2a-482b-9ec5-922dc9b57e90",
   "metadata": {},
   "outputs": [],
   "source": []
  }
 ],
 "metadata": {
  "kernelspec": {
   "display_name": "Python 3 (ipykernel)",
   "language": "python",
   "name": "python3"
  },
  "language_info": {
   "codemirror_mode": {
    "name": "ipython",
    "version": 3
   },
   "file_extension": ".py",
   "mimetype": "text/x-python",
   "name": "python",
   "nbconvert_exporter": "python",
   "pygments_lexer": "ipython3",
   "version": "3.11.4"
  }
 },
 "nbformat": 4,
 "nbformat_minor": 5
}
